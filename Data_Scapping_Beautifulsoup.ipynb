{
  "nbformat": 4,
  "nbformat_minor": 0,
  "metadata": {
    "colab": {
      "provenance": [],
      "authorship_tag": "ABX9TyPThFOdHKJp/9PlSh8dEPLb",
      "include_colab_link": true
    },
    "kernelspec": {
      "name": "python3",
      "display_name": "Python 3"
    },
    "language_info": {
      "name": "python"
    }
  },
  "cells": [
    {
      "cell_type": "markdown",
      "metadata": {
        "id": "view-in-github",
        "colab_type": "text"
      },
      "source": [
        "<a href=\"https://colab.research.google.com/github/Asif-PA/Data-Scapping-Beautifulsoup/blob/main/Data_Scapping_Beautifulsoup.ipynb\" target=\"_parent\"><img src=\"https://colab.research.google.com/assets/colab-badge.svg\" alt=\"Open In Colab\"/></a>"
      ]
    },
    {
      "cell_type": "code",
      "execution_count": 2,
      "metadata": {
        "colab": {
          "base_uri": "https://localhost:8080/"
        },
        "id": "-TJqctJbikxz",
        "outputId": "fba4f968-7be2-4d9a-d88f-6f4bfc85bfa0"
      },
      "outputs": [
        {
          "output_type": "stream",
          "name": "stdout",
          "text": [
            "Requirement already satisfied: requests in /usr/local/lib/python3.10/dist-packages (2.31.0)\n",
            "Requirement already satisfied: charset-normalizer<4,>=2 in /usr/local/lib/python3.10/dist-packages (from requests) (3.3.0)\n",
            "Requirement already satisfied: idna<4,>=2.5 in /usr/local/lib/python3.10/dist-packages (from requests) (3.4)\n",
            "Requirement already satisfied: urllib3<3,>=1.21.1 in /usr/local/lib/python3.10/dist-packages (from requests) (2.0.6)\n",
            "Requirement already satisfied: certifi>=2017.4.17 in /usr/local/lib/python3.10/dist-packages (from requests) (2023.7.22)\n"
          ]
        }
      ],
      "source": [
        "!pip install requests"
      ]
    },
    {
      "cell_type": "code",
      "source": [
        "!pip install bs4"
      ],
      "metadata": {
        "colab": {
          "base_uri": "https://localhost:8080/"
        },
        "id": "e_Y4_CbKirqW",
        "outputId": "4535995f-9650-4b1f-c8c7-6760b9b4c070"
      },
      "execution_count": 3,
      "outputs": [
        {
          "output_type": "stream",
          "name": "stdout",
          "text": [
            "Collecting bs4\n",
            "  Downloading bs4-0.0.1.tar.gz (1.1 kB)\n",
            "  Preparing metadata (setup.py) ... \u001b[?25l\u001b[?25hdone\n",
            "Requirement already satisfied: beautifulsoup4 in /usr/local/lib/python3.10/dist-packages (from bs4) (4.11.2)\n",
            "Requirement already satisfied: soupsieve>1.2 in /usr/local/lib/python3.10/dist-packages (from beautifulsoup4->bs4) (2.5)\n",
            "Building wheels for collected packages: bs4\n",
            "  Building wheel for bs4 (setup.py) ... \u001b[?25l\u001b[?25hdone\n",
            "  Created wheel for bs4: filename=bs4-0.0.1-py3-none-any.whl size=1256 sha256=cc041d51788c1eae1bfa069a6fac2450d302ab0695e4d8ebc979d221f8486467\n",
            "  Stored in directory: /root/.cache/pip/wheels/25/42/45/b773edc52acb16cd2db4cf1a0b47117e2f69bb4eb300ed0e70\n",
            "Successfully built bs4\n",
            "Installing collected packages: bs4\n",
            "Successfully installed bs4-0.0.1\n"
          ]
        }
      ]
    },
    {
      "cell_type": "code",
      "source": [
        "!pip install lxml"
      ],
      "metadata": {
        "colab": {
          "base_uri": "https://localhost:8080/"
        },
        "id": "ScezXZFhixt7",
        "outputId": "9c80fa83-3f67-4256-e41e-b4f6bbc6cf6c"
      },
      "execution_count": 4,
      "outputs": [
        {
          "output_type": "stream",
          "name": "stdout",
          "text": [
            "Requirement already satisfied: lxml in /usr/local/lib/python3.10/dist-packages (4.9.3)\n"
          ]
        }
      ]
    },
    {
      "cell_type": "code",
      "source": [
        "!pip install xlsxwriter\n"
      ],
      "metadata": {
        "colab": {
          "base_uri": "https://localhost:8080/"
        },
        "id": "QWjsTUnxvhSc",
        "outputId": "97eec74a-c342-4aba-f334-7f1403443e57"
      },
      "execution_count": 44,
      "outputs": [
        {
          "output_type": "stream",
          "name": "stdout",
          "text": [
            "Collecting xlsxwriter\n",
            "  Downloading XlsxWriter-3.1.8-py3-none-any.whl (154 kB)\n",
            "\u001b[2K     \u001b[90m━━━━━━━━━━━━━━━━━━━━━━━━━━━━━━━━━━━━━━━━\u001b[0m \u001b[32m154.8/154.8 kB\u001b[0m \u001b[31m2.9 MB/s\u001b[0m eta \u001b[36m0:00:00\u001b[0m\n",
            "\u001b[?25hInstalling collected packages: xlsxwriter\n",
            "Successfully installed xlsxwriter-3.1.8\n"
          ]
        }
      ]
    },
    {
      "cell_type": "code",
      "source": [
        "from bs4 import BeautifulSoup\n",
        "import requests"
      ],
      "metadata": {
        "id": "Sc17MjrDi6NL"
      },
      "execution_count": 5,
      "outputs": []
    },
    {
      "cell_type": "code",
      "source": [
        "\n",
        "url = \"https://www.timesjobs.com/candidate/job-search.html?searchType=personalizedSearch&from=submit&txtKeywords=python&txtLocation=\"\n",
        "headers = {\n",
        "    'User-Agent': 'Mozilla/5.0 (Windows NT 10.0; Win64; x64) AppleWebKit/537.36 (KHTML, like Gecko) Chrome/58.0.3029.110 Safari/537.3'\n",
        "}\n",
        "\n",
        "response = requests.get(url, headers=headers)\n",
        "\n",
        "\n",
        "soup = BeautifulSoup(response.content, 'html.parser')\n",
        "jobs = soup.find_all('li', class_='clearfix job-bx wht-shd-bx')\n",
        "\n",
        "for job in jobs:\n",
        "  company_name = job.find('h3', class_='joblist-comp-name').text.strip()\n",
        "  skills = job.find('span', class_='srp-skills').text.strip()\n",
        "  published_date = job.find('span', class_='sim-posted').text.strip()\n",
        "\n",
        "  print(f\"Company Name: {company_name}\\nSkills: {skills}\")\n",
        "  print()\n"
      ],
      "metadata": {
        "colab": {
          "base_uri": "https://localhost:8080/"
        },
        "id": "sN19OQe4hPoz",
        "outputId": "2edcd1fa-1365-4178-b761-e1973d5f44e4"
      },
      "execution_count": 23,
      "outputs": [
        {
          "output_type": "stream",
          "name": "stdout",
          "text": [
            "Company Name: east india securities ltd.\n",
            "Skills: python  ,  hadoop  ,  machine learning\n",
            "\n",
            "Company Name: DREAMAJAX TECHNOLOGIES\n",
            "Skills: python  ,  django  ,  api  ,  sql  ,  nosql\n",
            "\n",
            "Company Name: InnOvator Web Solutions Pvt.Ltd.\n",
            "Skills: rest  ,  python  ,  django  ,  web developer  ,  mysql  ,  api\n",
            "\n",
            "Company Name: pearl global solutions\n",
            "Skills: python  ,  database  ,  django  ,  team player  ,  sql\n",
            "\n",
            "Company Name: AxisTechnolabs\n",
            "Skills: python  ,  django  ,  it skills  ,  html5  ,  api  ,  jquery\n",
            "\n",
            "Company Name: Sourcedesk Global Private Limited\n",
            "Skills: html5  ,  storage  ,  python  ,  javascript  ,  django  ,  infrastructure\n",
            "\n",
            "Company Name: Ivan Infotech Pvt. Ltd.\n",
            "Skills: rest  ,  python  ,  security  ,  debugging\n",
            "\n",
            "Company Name: CONNECTING 2 WORK\n",
            "Skills: python  ,  storage  ,  django  ,  testing tools  ,  debugging\n",
            "\n",
            "Company Name: Doodleblue Innovations Pvt Ltd\n",
            "Skills: python  ,  database  ,  django  ,  git  ,  html5  ,  debugging  ,  javascript  ,  jquery\n",
            "\n",
            "Company Name: pegasus knowledge solutions india pvt ltd.\n",
            "Skills: python  ,  css  ,  django  ,  java  ,  html  ,  bootstrap  ,  api  ,  jquery  ,  sql\n",
            "\n",
            "Company Name: AxisTechnolabs\n",
            "Skills: python  ,  css  ,  user interaction  ,  bootstrap  ,  openerp  ,  database  ,  xml  ,  oops  ,  html\n",
            "\n",
            "Company Name: WBC Software Lab\n",
            "Skills: python  ,  git  ,  rest api  ,  linux  ,  mobile  ,  mongodb  ,  docker\n",
            "\n",
            "Company Name: NuageBiz.Tech\n",
            "Skills: python  ,  mobile  ,  team player  ,  svn  ,  security  ,  git  ,  software engineering\n",
            "\n",
            "Company Name: Techasoft Pvt Ltd\n",
            "Skills: python  ,  javascript  ,  docker  ,  django  ,  postgresql  ,  oops  ,  mysql  ,  mongodb  ,  opencv\n",
            "\n",
            "Company Name: AxisTechnolabs\n",
            "Skills: python  ,  django  ,  html5  ,  team player  ,  angularjs  ,  javascript\n",
            "\n",
            "Company Name: Fluper Limited\n",
            "Skills: c#  ,  python  ,  virtual reality  ,  mobile  ,  augmented reality  ,  opencv\n",
            "\n",
            "Company Name: gammastack indore\n",
            "Skills: python  ,  database  ,  django  ,  rest api  ,  oops  ,  machine learning  ,  artificial intelligence\n",
            "\n",
            "Company Name: Cybage Software Pvt Ltd\n",
            "Skills: python  ,  html5  ,  javascript  ,  nosql  ,  docker  ,  django  ,  software developer  ,  mongodb\n",
            "\n",
            "Company Name: glan management consultancy pvt. ltd.\n",
            "Skills: python  ,  rdbms  ,  mysql  ,  cloud computing  ,  docker  ,  sql\n",
            "\n",
            "Company Name: Wing Global IT Services\n",
            "Skills: spring boot  ,  python  ,  java  ,  django  ,  jpa  ,  hibernate\n",
            "\n",
            "Company Name: CONNECTING 2 WORK\n",
            "Skills: security compliance  ,  python  ,  html5  ,  mobile  ,  javascript  ,  database  ,  django  ,  debugging\n",
            "\n",
            "Company Name: Root Info Solutions\n",
            "Skills: rest  ,  python  ,  css  ,  rest api  ,  javascript  ,  oop  ,  django  ,  postgresql  ,  html  ,  mysql\n",
            "\n",
            "Company Name: RAYVAT Outsourcing\n",
            "Skills: python  ,  html5  ,  svn  ,  machine learning  ,  javascript  ,  security  ,  database  ,  django  ,  git  ,  mysql  ,  big data  ,  mongodb\n",
            "\n",
            "Company Name: art technology and software india pvt ltd\n",
            "Skills: rest  ,  python  ,  database  ,  django  ,  api\n",
            "\n",
            "Company Name: botree technologies\n",
            "Skills: security compliance  ,  python  ,  html5  ,  svn  ,  javascript  ,  database  ,  django  ,  git  ,  web developer  ,  debugging\n",
            "\n"
          ]
        }
      ]
    },
    {
      "cell_type": "code",
      "source": [
        "url='https://www.timesjobs.com/candidate/job-search.html?searchType=personalizedSearch&from=submit&txtKeywords=python&txtLocation='\n",
        "headers = {\n",
        "    'User-Agent': 'Mozilla/5.0 (Windows NT 10.0; Win64; x64) AppleWebKit/537.36 (KHTML, like Gecko) Chrome/58.0.3029.110 Safari/537.3'\n",
        "}\n",
        "response = requests.get(url,headers=headers)\n",
        "\n",
        "if response.status_code == 200:\n",
        "    html_content = response.text\n",
        "    soup = BeautifulSoup(html_content, 'lxml')\n",
        "\n",
        "\n",
        "else:\n",
        "    print(f\"Failed to retrieve data. Status code: {response.status_code}\")"
      ],
      "metadata": {
        "id": "-1p2sj9ejA-J"
      },
      "execution_count": 21,
      "outputs": []
    },
    {
      "cell_type": "code",
      "source": [
        "data=[]\n",
        "jobs=soup.find_all('li',class_='clearfix job-bx wht-shd-bx')\n",
        "\n",
        "for job in jobs:\n",
        "  published_date=job.find('span',class_='sim-posted').text.strip()\n",
        "  if 'few' in published_date:\n",
        "    Company_Name=job.find('h3',class_='joblist-comp-name').text.strip()\n",
        "    Skills=job.find('span',class_='srp-skills').text.strip()\n",
        "    Apply_link=job.header.h2.a['href']\n",
        "    data.append({'Company Name': Company_Name, 'Skills': Skills, 'Apply Link': Apply_link})\n",
        "    print(f'''Company Name: {Company_Name}\\nSkills: {Skills}\\nApply Link: {Apply_link} '''\n",
        "    )\n",
        "    print()\n",
        ""
      ],
      "metadata": {
        "colab": {
          "base_uri": "https://localhost:8080/"
        },
        "id": "GL8SPxSPjb83",
        "outputId": "940387cd-a3aa-4858-b11d-f489fa44eaa8"
      },
      "execution_count": 38,
      "outputs": [
        {
          "output_type": "stream",
          "name": "stdout",
          "text": [
            "Company Name: Ivan Infotech Pvt. Ltd.\n",
            "Skills: rest  ,  python  ,  security  ,  debugging\n",
            "Apply Link: https://www.timesjobs.com/job-detail/python-developer-ivan-infotech-pvt-ltd-kolkata-2-to-5-yrs-jobid-1h6sLaqbaBZzpSvf__PLUS__uAgZw==&source=srp \n",
            "\n",
            "Company Name: CONNECTING 2 WORK\n",
            "Skills: python  ,  storage  ,  django  ,  testing tools  ,  debugging\n",
            "Apply Link: https://www.timesjobs.com/job-detail/python-developer-connecting-2-work-thiruvananthapuram-5-to-10-yrs-jobid-Tebue__SLASH__8iTzVzpSvf__PLUS__uAgZw==&source=srp \n",
            "\n",
            "Company Name: glan management consultancy pvt. ltd.\n",
            "Skills: python  ,  rdbms  ,  mysql  ,  cloud computing  ,  docker  ,  sql\n",
            "Apply Link: https://www.timesjobs.com/job-detail/python-developer-glan-management-consultancy-pvt-ltd-noida-greater-noida-5-to-8-yrs-jobid-2yjhPFea__SLASH__AJzpSvf__PLUS__uAgZw==&source=srp \n",
            "\n",
            "Company Name: Wing Global IT Services\n",
            "Skills: spring boot  ,  python  ,  java  ,  django  ,  jpa  ,  hibernate\n",
            "Apply Link: https://www.timesjobs.com/job-detail/python-developer-wing-global-it-services-panchkula-2-to-5-yrs-jobid-__PLUS__fePw2G3HHZzpSvf__PLUS__uAgZw==&source=srp \n",
            "\n",
            "Company Name: CONNECTING 2 WORK\n",
            "Skills: security compliance  ,  python  ,  html5  ,  mobile  ,  javascript  ,  database  ,  django  ,  debugging\n",
            "Apply Link: https://www.timesjobs.com/job-detail/python-developer-connecting-2-work-thiruvananthapuram-0-to-3-yrs-jobid-fZIps0aRnhxzpSvf__PLUS__uAgZw==&source=srp \n",
            "\n",
            "Company Name: art technology and software india pvt ltd\n",
            "Skills: rest  ,  python  ,  database  ,  django  ,  api\n",
            "Apply Link: https://www.timesjobs.com/job-detail/python-developer-art-technology-and-software-india-pvt-ltd-cochin-kochi-ernakulam-2-to-3-yrs-jobid-M26lxDEd__PLUS__qtzpSvf__PLUS__uAgZw==&source=srp \n",
            "\n"
          ]
        }
      ]
    },
    {
      "cell_type": "code",
      "source": [
        "df = pd.DataFrame(data)"
      ],
      "metadata": {
        "id": "pCDPo5Cqtg-b"
      },
      "execution_count": 50,
      "outputs": []
    },
    {
      "cell_type": "code",
      "source": [
        "df"
      ],
      "metadata": {
        "colab": {
          "base_uri": "https://localhost:8080/",
          "height": 238
        },
        "id": "N8B7KvolwiEX",
        "outputId": "beddcb11-2188-49d4-9c01-2c2a1dc25f54"
      },
      "execution_count": 48,
      "outputs": [
        {
          "output_type": "execute_result",
          "data": {
            "text/plain": [
              "                                Company Name  \\\n",
              "0                    Ivan Infotech Pvt. Ltd.   \n",
              "1                          CONNECTING 2 WORK   \n",
              "2      glan management consultancy pvt. ltd.   \n",
              "3                    Wing Global IT Services   \n",
              "4                          CONNECTING 2 WORK   \n",
              "5  art technology and software india pvt ltd   \n",
              "\n",
              "                                              Skills  \\\n",
              "0         rest  ,  python  ,  security  ,  debugging   \n",
              "1  python  ,  storage  ,  django  ,  testing tool...   \n",
              "2  python  ,  rdbms  ,  mysql  ,  cloud computing...   \n",
              "3  spring boot  ,  python  ,  java  ,  django  , ...   \n",
              "4  security compliance  ,  python  ,  html5  ,  m...   \n",
              "5    rest  ,  python  ,  database  ,  django  ,  api   \n",
              "\n",
              "                                          Apply Link  \n",
              "0  https://www.timesjobs.com/job-detail/python-de...  \n",
              "1  https://www.timesjobs.com/job-detail/python-de...  \n",
              "2  https://www.timesjobs.com/job-detail/python-de...  \n",
              "3  https://www.timesjobs.com/job-detail/python-de...  \n",
              "4  https://www.timesjobs.com/job-detail/python-de...  \n",
              "5  https://www.timesjobs.com/job-detail/python-de...  "
            ],
            "text/html": [
              "\n",
              "  <div id=\"df-655a2ebb-1928-4712-ab17-951420ad92c5\" class=\"colab-df-container\">\n",
              "    <div>\n",
              "<style scoped>\n",
              "    .dataframe tbody tr th:only-of-type {\n",
              "        vertical-align: middle;\n",
              "    }\n",
              "\n",
              "    .dataframe tbody tr th {\n",
              "        vertical-align: top;\n",
              "    }\n",
              "\n",
              "    .dataframe thead th {\n",
              "        text-align: right;\n",
              "    }\n",
              "</style>\n",
              "<table border=\"1\" class=\"dataframe\">\n",
              "  <thead>\n",
              "    <tr style=\"text-align: right;\">\n",
              "      <th></th>\n",
              "      <th>Company Name</th>\n",
              "      <th>Skills</th>\n",
              "      <th>Apply Link</th>\n",
              "    </tr>\n",
              "  </thead>\n",
              "  <tbody>\n",
              "    <tr>\n",
              "      <th>0</th>\n",
              "      <td>Ivan Infotech Pvt. Ltd.</td>\n",
              "      <td>rest  ,  python  ,  security  ,  debugging</td>\n",
              "      <td>https://www.timesjobs.com/job-detail/python-de...</td>\n",
              "    </tr>\n",
              "    <tr>\n",
              "      <th>1</th>\n",
              "      <td>CONNECTING 2 WORK</td>\n",
              "      <td>python  ,  storage  ,  django  ,  testing tool...</td>\n",
              "      <td>https://www.timesjobs.com/job-detail/python-de...</td>\n",
              "    </tr>\n",
              "    <tr>\n",
              "      <th>2</th>\n",
              "      <td>glan management consultancy pvt. ltd.</td>\n",
              "      <td>python  ,  rdbms  ,  mysql  ,  cloud computing...</td>\n",
              "      <td>https://www.timesjobs.com/job-detail/python-de...</td>\n",
              "    </tr>\n",
              "    <tr>\n",
              "      <th>3</th>\n",
              "      <td>Wing Global IT Services</td>\n",
              "      <td>spring boot  ,  python  ,  java  ,  django  , ...</td>\n",
              "      <td>https://www.timesjobs.com/job-detail/python-de...</td>\n",
              "    </tr>\n",
              "    <tr>\n",
              "      <th>4</th>\n",
              "      <td>CONNECTING 2 WORK</td>\n",
              "      <td>security compliance  ,  python  ,  html5  ,  m...</td>\n",
              "      <td>https://www.timesjobs.com/job-detail/python-de...</td>\n",
              "    </tr>\n",
              "    <tr>\n",
              "      <th>5</th>\n",
              "      <td>art technology and software india pvt ltd</td>\n",
              "      <td>rest  ,  python  ,  database  ,  django  ,  api</td>\n",
              "      <td>https://www.timesjobs.com/job-detail/python-de...</td>\n",
              "    </tr>\n",
              "  </tbody>\n",
              "</table>\n",
              "</div>\n",
              "    <div class=\"colab-df-buttons\">\n",
              "\n",
              "  <div class=\"colab-df-container\">\n",
              "    <button class=\"colab-df-convert\" onclick=\"convertToInteractive('df-655a2ebb-1928-4712-ab17-951420ad92c5')\"\n",
              "            title=\"Convert this dataframe to an interactive table.\"\n",
              "            style=\"display:none;\">\n",
              "\n",
              "  <svg xmlns=\"http://www.w3.org/2000/svg\" height=\"24px\" viewBox=\"0 -960 960 960\">\n",
              "    <path d=\"M120-120v-720h720v720H120Zm60-500h600v-160H180v160Zm220 220h160v-160H400v160Zm0 220h160v-160H400v160ZM180-400h160v-160H180v160Zm440 0h160v-160H620v160ZM180-180h160v-160H180v160Zm440 0h160v-160H620v160Z\"/>\n",
              "  </svg>\n",
              "    </button>\n",
              "\n",
              "  <style>\n",
              "    .colab-df-container {\n",
              "      display:flex;\n",
              "      gap: 12px;\n",
              "    }\n",
              "\n",
              "    .colab-df-convert {\n",
              "      background-color: #E8F0FE;\n",
              "      border: none;\n",
              "      border-radius: 50%;\n",
              "      cursor: pointer;\n",
              "      display: none;\n",
              "      fill: #1967D2;\n",
              "      height: 32px;\n",
              "      padding: 0 0 0 0;\n",
              "      width: 32px;\n",
              "    }\n",
              "\n",
              "    .colab-df-convert:hover {\n",
              "      background-color: #E2EBFA;\n",
              "      box-shadow: 0px 1px 2px rgba(60, 64, 67, 0.3), 0px 1px 3px 1px rgba(60, 64, 67, 0.15);\n",
              "      fill: #174EA6;\n",
              "    }\n",
              "\n",
              "    .colab-df-buttons div {\n",
              "      margin-bottom: 4px;\n",
              "    }\n",
              "\n",
              "    [theme=dark] .colab-df-convert {\n",
              "      background-color: #3B4455;\n",
              "      fill: #D2E3FC;\n",
              "    }\n",
              "\n",
              "    [theme=dark] .colab-df-convert:hover {\n",
              "      background-color: #434B5C;\n",
              "      box-shadow: 0px 1px 3px 1px rgba(0, 0, 0, 0.15);\n",
              "      filter: drop-shadow(0px 1px 2px rgba(0, 0, 0, 0.3));\n",
              "      fill: #FFFFFF;\n",
              "    }\n",
              "  </style>\n",
              "\n",
              "    <script>\n",
              "      const buttonEl =\n",
              "        document.querySelector('#df-655a2ebb-1928-4712-ab17-951420ad92c5 button.colab-df-convert');\n",
              "      buttonEl.style.display =\n",
              "        google.colab.kernel.accessAllowed ? 'block' : 'none';\n",
              "\n",
              "      async function convertToInteractive(key) {\n",
              "        const element = document.querySelector('#df-655a2ebb-1928-4712-ab17-951420ad92c5');\n",
              "        const dataTable =\n",
              "          await google.colab.kernel.invokeFunction('convertToInteractive',\n",
              "                                                    [key], {});\n",
              "        if (!dataTable) return;\n",
              "\n",
              "        const docLinkHtml = 'Like what you see? Visit the ' +\n",
              "          '<a target=\"_blank\" href=https://colab.research.google.com/notebooks/data_table.ipynb>data table notebook</a>'\n",
              "          + ' to learn more about interactive tables.';\n",
              "        element.innerHTML = '';\n",
              "        dataTable['output_type'] = 'display_data';\n",
              "        await google.colab.output.renderOutput(dataTable, element);\n",
              "        const docLink = document.createElement('div');\n",
              "        docLink.innerHTML = docLinkHtml;\n",
              "        element.appendChild(docLink);\n",
              "      }\n",
              "    </script>\n",
              "  </div>\n",
              "\n",
              "\n",
              "<div id=\"df-7918e29b-1bad-4db5-9e0d-85f61a5253e9\">\n",
              "  <button class=\"colab-df-quickchart\" onclick=\"quickchart('df-7918e29b-1bad-4db5-9e0d-85f61a5253e9')\"\n",
              "            title=\"Suggest charts.\"\n",
              "            style=\"display:none;\">\n",
              "\n",
              "<svg xmlns=\"http://www.w3.org/2000/svg\" height=\"24px\"viewBox=\"0 0 24 24\"\n",
              "     width=\"24px\">\n",
              "    <g>\n",
              "        <path d=\"M19 3H5c-1.1 0-2 .9-2 2v14c0 1.1.9 2 2 2h14c1.1 0 2-.9 2-2V5c0-1.1-.9-2-2-2zM9 17H7v-7h2v7zm4 0h-2V7h2v10zm4 0h-2v-4h2v4z\"/>\n",
              "    </g>\n",
              "</svg>\n",
              "  </button>\n",
              "\n",
              "<style>\n",
              "  .colab-df-quickchart {\n",
              "      --bg-color: #E8F0FE;\n",
              "      --fill-color: #1967D2;\n",
              "      --hover-bg-color: #E2EBFA;\n",
              "      --hover-fill-color: #174EA6;\n",
              "      --disabled-fill-color: #AAA;\n",
              "      --disabled-bg-color: #DDD;\n",
              "  }\n",
              "\n",
              "  [theme=dark] .colab-df-quickchart {\n",
              "      --bg-color: #3B4455;\n",
              "      --fill-color: #D2E3FC;\n",
              "      --hover-bg-color: #434B5C;\n",
              "      --hover-fill-color: #FFFFFF;\n",
              "      --disabled-bg-color: #3B4455;\n",
              "      --disabled-fill-color: #666;\n",
              "  }\n",
              "\n",
              "  .colab-df-quickchart {\n",
              "    background-color: var(--bg-color);\n",
              "    border: none;\n",
              "    border-radius: 50%;\n",
              "    cursor: pointer;\n",
              "    display: none;\n",
              "    fill: var(--fill-color);\n",
              "    height: 32px;\n",
              "    padding: 0;\n",
              "    width: 32px;\n",
              "  }\n",
              "\n",
              "  .colab-df-quickchart:hover {\n",
              "    background-color: var(--hover-bg-color);\n",
              "    box-shadow: 0 1px 2px rgba(60, 64, 67, 0.3), 0 1px 3px 1px rgba(60, 64, 67, 0.15);\n",
              "    fill: var(--button-hover-fill-color);\n",
              "  }\n",
              "\n",
              "  .colab-df-quickchart-complete:disabled,\n",
              "  .colab-df-quickchart-complete:disabled:hover {\n",
              "    background-color: var(--disabled-bg-color);\n",
              "    fill: var(--disabled-fill-color);\n",
              "    box-shadow: none;\n",
              "  }\n",
              "\n",
              "  .colab-df-spinner {\n",
              "    border: 2px solid var(--fill-color);\n",
              "    border-color: transparent;\n",
              "    border-bottom-color: var(--fill-color);\n",
              "    animation:\n",
              "      spin 1s steps(1) infinite;\n",
              "  }\n",
              "\n",
              "  @keyframes spin {\n",
              "    0% {\n",
              "      border-color: transparent;\n",
              "      border-bottom-color: var(--fill-color);\n",
              "      border-left-color: var(--fill-color);\n",
              "    }\n",
              "    20% {\n",
              "      border-color: transparent;\n",
              "      border-left-color: var(--fill-color);\n",
              "      border-top-color: var(--fill-color);\n",
              "    }\n",
              "    30% {\n",
              "      border-color: transparent;\n",
              "      border-left-color: var(--fill-color);\n",
              "      border-top-color: var(--fill-color);\n",
              "      border-right-color: var(--fill-color);\n",
              "    }\n",
              "    40% {\n",
              "      border-color: transparent;\n",
              "      border-right-color: var(--fill-color);\n",
              "      border-top-color: var(--fill-color);\n",
              "    }\n",
              "    60% {\n",
              "      border-color: transparent;\n",
              "      border-right-color: var(--fill-color);\n",
              "    }\n",
              "    80% {\n",
              "      border-color: transparent;\n",
              "      border-right-color: var(--fill-color);\n",
              "      border-bottom-color: var(--fill-color);\n",
              "    }\n",
              "    90% {\n",
              "      border-color: transparent;\n",
              "      border-bottom-color: var(--fill-color);\n",
              "    }\n",
              "  }\n",
              "</style>\n",
              "\n",
              "  <script>\n",
              "    async function quickchart(key) {\n",
              "      const quickchartButtonEl =\n",
              "        document.querySelector('#' + key + ' button');\n",
              "      quickchartButtonEl.disabled = true;  // To prevent multiple clicks.\n",
              "      quickchartButtonEl.classList.add('colab-df-spinner');\n",
              "      try {\n",
              "        const charts = await google.colab.kernel.invokeFunction(\n",
              "            'suggestCharts', [key], {});\n",
              "      } catch (error) {\n",
              "        console.error('Error during call to suggestCharts:', error);\n",
              "      }\n",
              "      quickchartButtonEl.classList.remove('colab-df-spinner');\n",
              "      quickchartButtonEl.classList.add('colab-df-quickchart-complete');\n",
              "    }\n",
              "    (() => {\n",
              "      let quickchartButtonEl =\n",
              "        document.querySelector('#df-7918e29b-1bad-4db5-9e0d-85f61a5253e9 button');\n",
              "      quickchartButtonEl.style.display =\n",
              "        google.colab.kernel.accessAllowed ? 'block' : 'none';\n",
              "    })();\n",
              "  </script>\n",
              "</div>\n",
              "    </div>\n",
              "  </div>\n"
            ]
          },
          "metadata": {},
          "execution_count": 48
        }
      ]
    },
    {
      "cell_type": "code",
      "source": [
        "from google.colab import drive\n",
        "drive.mount('/content/drive')"
      ],
      "metadata": {
        "colab": {
          "base_uri": "https://localhost:8080/"
        },
        "id": "SxPx7wKGtQGD",
        "outputId": "5bb5b9f0-4827-4b1e-b1c2-8a36988480c1"
      },
      "execution_count": 37,
      "outputs": [
        {
          "output_type": "stream",
          "name": "stdout",
          "text": [
            "Mounted at /content/drive\n"
          ]
        }
      ]
    },
    {
      "cell_type": "code",
      "source": [
        "import pandas as pd"
      ],
      "metadata": {
        "id": "Dbd28X3Ft_UW"
      },
      "execution_count": 41,
      "outputs": []
    },
    {
      "cell_type": "code",
      "source": [
        "df.to_excel('/content/drive/My Drive/jobs.xlsx', index=False)"
      ],
      "metadata": {
        "id": "yvHDeNubwnCn"
      },
      "execution_count": 49,
      "outputs": []
    }
  ]
}